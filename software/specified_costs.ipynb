{
 "cells": [
  {
   "cell_type": "code",
   "execution_count": 1,
   "id": "0c1ac47f-3307-407f-9660-67b9e3b07a24",
   "metadata": {},
   "outputs": [],
   "source": [
    "import numpy as np\n",
    "\n",
    "USD_to_INR    = 72\n",
    "discount_rate = .09\n",
    "INR_per_MW_to_USD_per_kW = 10000*(1/USD_to_INR)\n",
    "\n",
    "def _CRF(r, N):\n",
    "    return r*((1 + r)**N)/((1 + r)**N - 1)"
   ]
  },
  {
   "cell_type": "markdown",
   "id": "20f39f52-955a-43b9-8d37-e66959af8c0f",
   "metadata": {},
   "source": [
    "# Specified Capacity"
   ]
  },
  {
   "cell_type": "code",
   "execution_count": 2,
   "id": "252e90a7-e6b7-4f3c-8843-a87abece66ee",
   "metadata": {},
   "outputs": [
    {
     "name": "stdout",
     "output_type": "stream",
     "text": [
      "1624.9999999999998 59.72222222222222 30 0.0973363513908898\n",
      "158231.2932324181\n"
     ]
    }
   ],
   "source": [
    "# Nuclear\n",
    "capex    = INR_per_MW_to_USD_per_kW*11.7\n",
    "opex     = INR_per_MW_to_USD_per_kW*0.43\n",
    "lifetime = 30\n",
    "CRF      = _CRF(discount_rate, lifetime)\n",
    "print(capex, opex, lifetime, CRF)\n",
    "\n",
    "annualized = 1000*CRF*capex + opex\n",
    "print(annualized)"
   ]
  },
  {
   "cell_type": "code",
   "execution_count": 3,
   "id": "e40882a6-65d1-471e-aebb-abf0e2837548",
   "metadata": {},
   "outputs": [
    {
     "name": "stdout",
     "output_type": "stream",
     "text": [
      "1134.7222222222222 79.8611111111111 40 0.09295960922109704\n",
      "105563.19546338372\n"
     ]
    }
   ],
   "source": [
    "# Hydro Storage\n",
    "capex    = INR_per_MW_to_USD_per_kW*(8.3 + 8.04)/2.\n",
    "opex     = INR_per_MW_to_USD_per_kW*(0.91 + 0.24)/2.\n",
    "lifetime = 40\n",
    "CRF      = _CRF(discount_rate, lifetime)\n",
    "print(capex, opex, lifetime, CRF)\n",
    "\n",
    "annualized = 1000*CRF*capex + opex\n",
    "print(annualized)"
   ]
  },
  {
   "cell_type": "code",
   "execution_count": 4,
   "id": "63b7721d-909a-4c2c-8b01-7e69c6d4fc34",
   "metadata": {},
   "outputs": [
    {
     "name": "stdout",
     "output_type": "stream",
     "text": [
      "684.0277777777777 17.083333333333332 40 0.09295960922109704\n",
      "63604.03825193096\n"
     ]
    }
   ],
   "source": [
    "# Hydro Pumped \n",
    "capex    = INR_per_MW_to_USD_per_kW*(6 + 3.85)/2.\n",
    "opex     = INR_per_MW_to_USD_per_kW*(0.15 + 0.096)/2.\n",
    "lifetime = 40\n",
    "CRF      = _CRF(discount_rate, lifetime)\n",
    "print(capex, opex, lifetime, CRF)\n",
    "\n",
    "annualized = 1000*CRF*capex + opex\n",
    "print(annualized)"
   ]
  },
  {
   "cell_type": "code",
   "execution_count": 5,
   "id": "28acdbae-5a19-4fb5-ab3d-a17efb7ae0ec",
   "metadata": {},
   "outputs": [
    {
     "name": "stdout",
     "output_type": "stream",
     "text": [
      "1486.111111111111 61.11111111111111 40 0.09295960922109704\n",
      "138209.41925913034\n"
     ]
    }
   ],
   "source": [
    "# Hydro ROR\n",
    "capex    = INR_per_MW_to_USD_per_kW*10.7\n",
    "opex     = INR_per_MW_to_USD_per_kW*0.44\n",
    "lifetime = 40\n",
    "CRF      = _CRF(discount_rate, lifetime)\n",
    "print(capex, opex, lifetime, CRF)\n",
    "\n",
    "annualized = 1000*CRF*capex + opex\n",
    "print(annualized)"
   ]
  },
  {
   "cell_type": "code",
   "execution_count": 6,
   "id": "f5b4fe62-0482-4887-ae6d-265cd75e5105",
   "metadata": {},
   "outputs": [
    {
     "name": "stdout",
     "output_type": "stream",
     "text": [
      "694.4444444444445 13.88888888888889 30 0.0973363513908898\n",
      "67608.57735478457\n"
     ]
    }
   ],
   "source": [
    "# Biomass\n",
    "capex    = INR_per_MW_to_USD_per_kW*5\n",
    "opex     = INR_per_MW_to_USD_per_kW*0.1\n",
    "lifetime = 30\n",
    "CRF      = _CRF(discount_rate, lifetime)\n",
    "print(capex, opex, lifetime, CRF)\n",
    "\n",
    "annualized = 1000*CRF*capex + opex\n",
    "print(annualized)"
   ]
  },
  {
   "cell_type": "code",
   "execution_count": 7,
   "id": "8de25f07-01d3-419c-b5af-9fc5d59b0333",
   "metadata": {},
   "outputs": [
    {
     "name": "stdout",
     "output_type": "stream",
     "text": [
      "569.4444444444443 34.72222222222222 25 0.10180625051857181\n",
      "58007.72598974227\n"
     ]
    }
   ],
   "source": [
    "# Diesel\n",
    "capex    = INR_per_MW_to_USD_per_kW*4.1\n",
    "opex     = INR_per_MW_to_USD_per_kW*0.25\n",
    "lifetime = 25\n",
    "CRF      = _CRF(discount_rate, lifetime)\n",
    "print(capex, opex, lifetime, CRF)\n",
    "\n",
    "annualized = 1000*CRF*capex + opex\n",
    "print(annualized)"
   ]
  },
  {
   "cell_type": "code",
   "execution_count": 8,
   "id": "47aa4831-88cd-42b5-9b2f-ad121e31a96f",
   "metadata": {},
   "outputs": [
    {
     "name": "stdout",
     "output_type": "stream",
     "text": [
      "722.2222222222223 34.72222222222222 25 0.10180625051857181\n",
      "73561.45870785743\n"
     ]
    }
   ],
   "source": [
    "# CCGT\n",
    "capex    = INR_per_MW_to_USD_per_kW*3.47\n",
    "capex    = INR_per_MW_to_USD_per_kW*5.2\n",
    "#capex    = INR_per_MW_to_USD_per_kW*5\n",
    "\n",
    "opex     = INR_per_MW_to_USD_per_kW*0.25\n",
    "lifetime = 25\n",
    "CRF      = _CRF(discount_rate, lifetime)\n",
    "print(capex, opex, lifetime, CRF)\n",
    "\n",
    "annualized = 1000*CRF*capex + opex\n",
    "print(annualized)"
   ]
  },
  {
   "cell_type": "code",
   "execution_count": 9,
   "id": "608d7b2c-666f-4722-aad7-f8db6d923248",
   "metadata": {},
   "outputs": [
    {
     "name": "stdout",
     "output_type": "stream",
     "text": [
      "925.0 9.444444444444445 25 0.10180625051857181\n",
      "94180.22617412337\n"
     ]
    }
   ],
   "source": [
    "# Wind\n",
    "capex    = INR_per_MW_to_USD_per_kW*6.66\n",
    "opex     = INR_per_MW_to_USD_per_kW*0.068\n",
    "lifetime = 25\n",
    "CRF      = _CRF(discount_rate, lifetime)\n",
    "print(capex, opex, lifetime, CRF)\n",
    "\n",
    "annualized = 1000*CRF*capex + opex\n",
    "print(annualized)"
   ]
  },
  {
   "cell_type": "code",
   "execution_count": 10,
   "id": "34d232b7-a4dd-4433-831f-3f1fe752cf2f",
   "metadata": {},
   "outputs": [
    {
     "name": "stdout",
     "output_type": "stream",
     "text": [
      "597.2222222222222 6.388888888888888 25 0.10180625051857181\n",
      "60807.344059702606\n"
     ]
    }
   ],
   "source": [
    "# Solar\n",
    "capex    = INR_per_MW_to_USD_per_kW*4.3\n",
    "opex     = INR_per_MW_to_USD_per_kW*0.046\n",
    "lifetime = 25\n",
    "CRF      = _CRF(discount_rate, lifetime)\n",
    "print(capex, opex, lifetime, CRF)\n",
    "\n",
    "annualized = 1000*CRF*capex + opex\n",
    "print(annualized)"
   ]
  },
  {
   "cell_type": "code",
   "execution_count": 21,
   "id": "e057e11b-eb11-426c-91dd-db2b91e41f2e",
   "metadata": {},
   "outputs": [],
   "source": [
    "from scipy.interpolate import PchipInterpolator\n",
    "import matplotlib.pyplot as plt"
   ]
  },
  {
   "cell_type": "markdown",
   "id": "64b5a24f-c2be-4c6e-a495-bb27ee866612",
   "metadata": {},
   "source": [
    "# Roof Top Solar PV Cost projections"
   ]
  },
  {
   "cell_type": "code",
   "execution_count": 31,
   "id": "06a2e9e5-342a-44b9-a743-d0a3b505896b",
   "metadata": {},
   "outputs": [
    {
     "data": {
      "image/png": "[encoded data removed]",
      "text/plain": [
       "<Figure size 432x288 with 1 Axes>"
      ]
     },
     "metadata": {
      "needs_background": "light"
     },
     "output_type": "display_data"
    }
   ],
   "source": [
    "capex_  = np.array([4.3, 3.1, 2.1, 1.8])\n",
    "period_ = np.array([2020, 2030, 2040, 2050])\n",
    "# 2050 uncerntaty\n",
    "upper_ = np.array([4.3, 4.])\n",
    "lower_ = np.array([4.3, 0.1])\n",
    "uncertanty_period_ = np.array([2020, 2050])\n",
    "\n",
    "_f_mean = PchipInterpolator(period_, capex_)\n",
    "_f_upper = PchipInterpolator(uncertanty_period_, upper_)\n",
    "_f_lower = PchipInterpolator(uncertanty_period_, lower_)\n",
    "\n",
    "z = 1e7/1000/USD_to_INR\n",
    "x_ = np.arange(2020, 2051, 1)\n",
    "\n",
    "plt.figure()\n",
    "plt.plot(x_, _f_upper(x_)*z)\n",
    "plt.plot(x_, _f_mean(x_)*z)\n",
    "plt.plot(x_, _f_lower(x_)*z)\n",
    "plt.show()"
   ]
  },
  {
   "cell_type": "code",
   "execution_count": null,
   "id": "8092bd9a-9a6c-458f-b0fa-6322bbe13b5f",
   "metadata": {},
   "outputs": [],
   "source": []
  }
 ],
 "metadata": {
  "kernelspec": {
   "display_name": "Python 3",
   "language": "python",
   "name": "python3"
  },
  "language_info": {
   "codemirror_mode": {
    "name": "ipython",
    "version": 3
   },
   "file_extension": ".py",
   "mimetype": "text/x-python",
   "name": "python",
   "nbconvert_exporter": "python",
   "pygments_lexer": "ipython3",
   "version": "3.8.5"
  }
 },
 "nbformat": 4,
 "nbformat_minor": 5
}
