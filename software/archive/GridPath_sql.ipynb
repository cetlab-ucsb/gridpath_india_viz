{
 "cells": [
  {
   "cell_type": "code",
   "execution_count": null,
   "id": "c24a7b3b-ccb1-445f-8027-2ad71cdedab6",
   "metadata": {},
   "outputs": [],
   "source": [
    "import pandas as pd\n",
    "import numpy as np\n",
    "\n",
    "import matplotlib.pyplot as plt\n",
    "\n",
    "import os, sqlite3\n",
    "\n",
    "path_to_db     = r'/Users/Guille/Desktop/india_power/database/'\n",
    "path_to_images = r'/Users/Guille/Desktop/india_power/images/'"
   ]
  },
  {
   "cell_type": "code",
   "execution_count": null,
   "id": "69c6f626-d67e-4287-b6d6-625c19861faa",
   "metadata": {},
   "outputs": [],
   "source": [
    "def _connect_to_db(db_path, timeout      = 5, \n",
    "                            detect_types = 0):\n",
    "    \"\"\"\n",
    "    :param db_path: str, the path to the database, relative to the\n",
    "        current working directory, defaults to \"../db/io.db\"\n",
    "    :param timeout: int, number of seconds the connection should wait for the\n",
    "        database lock to go away before raising an exception, defaults to 5\n",
    "    :param detect_types: int, type detection parameter, defaults to 0\n",
    "    :return: the sqlite3 database connection object\n",
    "    Connect to a database and return the connection object.\n",
    "    \"\"\"\n",
    "\n",
    "    if not os.path.isfile(db_path):\n",
    "        raise OSError(\"The database file {} was not found. Did you mean to \"\n",
    "                      \"specify a different database file?\".format(os.path.abspath(db_path)))\n",
    "\n",
    "    conn = sqlite3.connect(db_path, timeout      = timeout, \n",
    "                                    detect_types = detect_types)\n",
    "\n",
    "    # Enforce foreign keys (default = not enforced)\n",
    "    conn.execute(\"PRAGMA foreign_keys=ON;\")\n",
    "\n",
    "    return conn\n",
    "\n",
    "def _load_table(_conn, table_name):\n",
    "    return pd.read_sql_query(f\"SELECT * FROM {table_name}\", _conn)\n",
    "\n",
    "\n",
    "# Open Connection to database\n",
    "db_name = 'india-20221121.db'\n",
    "_conn   = _connect_to_db(path_to_db + db_name)\n",
    "_cursor = _conn.cursor()\n",
    "tables_ = _cursor.execute(\"SELECT name FROM sqlite_master WHERE type='table';\").fetchall()"
   ]
  },
  {
   "cell_type": "markdown",
   "id": "406d8cf0-2170-4160-87a4-775fac42027f",
   "metadata": {},
   "source": [
    "### Find Available Tables in Connected Database\n",
    "#### Tables with Project Results:\n",
    "* results_project_capacity (Cap)\n",
    "* results_project_carbon_emissions (CEs)\n",
    "* results_project_carbon_emissions_by_technology_period (CEsTechPer)\n",
    "* results_project_costs_capacity (CostCap)\n",
    "* results_project_costs_capacity_agg (CostCapAgg)\n",
    "* results_project_costs_operations (CostOp)\n",
    "* results_project_costs_operations_agg (CostOpAgg)\n",
    "* results_project_curtailment_variable (Curtail)\n",
    "* results_project_dispatch (Dispatch)\n",
    "* results_project_dispatch_by_technology (DispatchTech)\n",
    "* results_project_dispatch_by_technology_period (DispatchTechPer)\n",
    "* results_project_elcc_simple (ELCC)\n",
    "* results_project_frequency_response (FreqResp)\n",
    "* results_project_fuel_burn (Fuel)\n",
    "* results_project_period_energy_target (EnergyTargetPer)\n",
    "* results_project_spinning_reserves (SpinReser)"
   ]
  },
  {
   "cell_type": "code",
   "execution_count": null,
   "id": "4040eb83-b6a4-4134-9d84-f2b20be9ce56",
   "metadata": {},
   "outputs": [],
   "source": [
    "Cap_ = _load_table(_conn, \"results_project_capacity\")\n",
    "#print(Cap_.head())\n",
    "\n",
    "CEs_ = _load_table(_conn, \"results_project_carbon_emissions\")\n",
    "#print(CEs_.head())\n",
    "\n",
    "CEsTechPer_ = _load_table(_conn, \"results_project_carbon_emissions_by_technology_period\")\n",
    "#print(CEsTechPer_.head())\n",
    "\n",
    "CostCap_ = _load_table(_conn, \"results_project_costs_capacity\")\n",
    "#print(CostCap_.head())\n",
    "\n",
    "CostCapAgg_ = _load_table(_conn, \"results_project_costs_capacity_agg\")\n",
    "#print(CostCapAgg_.head())\n",
    "\n",
    "CostOp_ = _load_table(_conn, \"results_project_costs_operations\")\n",
    "#print(CostOp_.head())\n",
    "\n",
    "CostOpAgg_ = _load_table(_conn, \"results_project_costs_operations_agg\")\n",
    "#print(CostOpAgg_.head())\n",
    "\n",
    "Curtail_ = _load_table(_conn, \"results_project_curtailment_variable\")\n",
    "#print(Curtail_.head())\n",
    "\n",
    "Dispatch_ = _load_table(_conn, \"results_project_dispatch\")\n",
    "#print(Dispatch_.head())\n",
    "\n",
    "DispatchTech_ = _load_table(_conn, \"results_project_dispatch_by_technology\")\n",
    "#print(DispatchTech_.head())\n",
    "\n",
    "DispatchTechPer_ = _load_table(_conn, \"results_project_dispatch_by_technology_period\")\n",
    "#print(DispatchTechPer_.head())\n",
    "\n",
    "ELCC_ = _load_table(_conn, \"results_project_elcc_simple\")\n",
    "#print(ELCC_.head())\n",
    "\n",
    "FreqResp_ = _load_table(_conn, \"results_project_frequency_response\")\n",
    "#print(FreqResp_.head())\n",
    "\n",
    "Fuel_ = _load_table(_conn, \"results_project_fuel_burn\")\n",
    "#print(Fuel_.head())\n",
    "\n",
    "EnergyTargetPer_ = _load_table(_conn, \"results_project_period_energy_target\")\n",
    "#print(EnergyTargetPer_.head())\n",
    "\n",
    "SpinReser_ = _load_table(_conn, \"results_project_spinning_reserves\")\n",
    "#print(SpinReser_.head())"
   ]
  },
  {
   "cell_type": "markdown",
   "id": "a2bb1697-4c8c-41db-869d-eea940a58f7d",
   "metadata": {},
   "source": [
    "#### Tables with System Results:\n",
    "* results_system_costs (Costs)\n",
    "* results_system_frequency_response_balance (FreqRespBal)\n",
    "* results_system_frequency_response_partial_balance (FreqRespParBal)\n",
    "* results_system_spinning_reserves_balance (SpinReserBal)\n",
    "* results_system_period_energy_target (PerEnergyTargte)\n",
    "* results_system_prm (PRM)"
   ]
  },
  {
   "cell_type": "code",
   "execution_count": null,
   "id": "b6d026f9-f670-4299-89d8-46651acab868",
   "metadata": {},
   "outputs": [],
   "source": [
    "Costs_ = _load_table(_conn, \"results_system_costs\")\n",
    "#print(Costs_.head())\n",
    "\n",
    "FreqRespBal_ = _load_table(_conn, \"results_system_frequency_response_balance\")\n",
    "#print(FreqRespBal_.head())\n",
    "\n",
    "FreqRespParBal_ = _load_table(_conn, \"results_system_frequency_response_partial_balance\")\n",
    "#print(FreqRespParBal_.head())\n",
    "\n",
    "SpinReserBal_ = _load_table(_conn, \"results_system_spinning_reserves_balance\")\n",
    "#print(SpinReserBal_.head())\n",
    "\n",
    "PerEnergyTarget_ = _load_table(_conn, \"results_system_period_energy_target\")\n",
    "#print(PerEnergyTarget_.head())\n",
    "\n",
    "PRM_ = _load_table(_conn, \"results_system_prm\")\n"
   ]
  },
  {
   "cell_type": "markdown",
   "id": "57c39779-0fb5-41e3-8192-998458018db8",
   "metadata": {},
   "source": [
    "#### Tables with Transmission Results:\n",
    "* results_transmission_capacity (Cap)\n",
    "* results_transmission_costs_capacity (CostsCap)\n",
    "* results_transmission_costs_capacity_agg (CostsCapAgg)\n",
    "* results_transmission_imports_exports (ImpExp)\n",
    "* results_transmission_imports_exports_agg (ImpExpAgg)\n",
    "* results_transmission_operations (Op)"
   ]
  },
  {
   "cell_type": "code",
   "execution_count": null,
   "id": "6ac84484-8287-4655-a2b2-1b69ea52ef0d",
   "metadata": {},
   "outputs": [],
   "source": [
    "Cap_ = _load_table(_conn, \"results_transmission_capacity\")\n",
    "#print(Cap_.head())\n",
    "\n",
    "CostsCap_ = _load_table(_conn, \"results_transmission_costs_capacity\")\n",
    "#print(CostsCap_.head())\n",
    "\n",
    "CostsCapAgg_ = _load_table(_conn, \"results_transmission_costs_capacity_agg\")\n",
    "#print(CostsCapAgg_.head())\n",
    "\n",
    "ImpExp_ = _load_table(_conn, \"results_transmission_imports_exports\")\n",
    "#print(ImpExp_.head())\n",
    "\n",
    "ImpExpAgg_ = _load_table(_conn, \"results_transmission_imports_exports_agg\")\n",
    "#print(ImpExpAgg_.head())\n",
    "\n",
    "Op_ = _load_table(_conn, \"results_transmission_operations\")\n",
    "#print(Op_.head())"
   ]
  },
  {
   "cell_type": "code",
   "execution_count": null,
   "id": "938823a0-a77b-4c50-b474-d07a7d72ef09",
   "metadata": {},
   "outputs": [],
   "source": [
    "# Be sure to close the connection\n",
    "_conn.close()"
   ]
  },
  {
   "cell_type": "code",
   "execution_count": null,
   "id": "9340a8c6-5473-4b5e-ac6f-3d49831cff0f",
   "metadata": {},
   "outputs": [],
   "source": [
    "for column_name in data_.columns:\n",
    "    print(column_name, pd.unique(data_[column_name]))"
   ]
  }
 ],
 "metadata": {
  "kernelspec": {
   "display_name": "Python 3 (ipykernel)",
   "language": "python",
   "name": "python3"
  },
  "language_info": {
   "codemirror_mode": {
    "name": "ipython",
    "version": 3
   },
   "file_extension": ".py",
   "mimetype": "text/x-python",
   "name": "python",
   "nbconvert_exporter": "python",
   "pygments_lexer": "ipython3",
   "version": "3.8.5"
  }
 },
 "nbformat": 4,
 "nbformat_minor": 5
}
