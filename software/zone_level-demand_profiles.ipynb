{
 "cells": [
  {
   "cell_type": "code",
   "execution_count": null,
   "id": "d6b3cfc2-8af5-4384-a066-b09e3f0f975a",
   "metadata": {},
   "outputs": [],
   "source": [
    "import os\n",
    "\n",
    "import pandas as pd\n",
    "import numpy as np\n",
    "import itertools\n",
    "import geopandas as gpd\n",
    "\n",
    "import matplotlib as mpl\n",
    "import matplotlib.pyplot as plt\n",
    "from matplotlib.ticker import MultipleLocator\n",
    "from matplotlib.lines import Line2D\n",
    "from mpl_toolkits.axes_grid1.inset_locator import inset_axes\n",
    "from matplotlib.transforms import ScaledTranslation\n",
    "\n",
    "# TODO:\n",
    "# * Short the legend following the color code\n",
    "\n",
    "plt.rcParams['legend.handlelength'] = 1\n",
    "plt.rcParams['legend.handleheight'] = 1.125\n",
    "plt.rcParams[\"font.family\"]         = \"Avenir\"\n",
    "mpl.rcParams['pdf.fonttype'] = 42\n",
    "\n",
    "mpl.rcParams.update({\"pdf.use14corefonts\": True})\n",
    "\n",
    "path_to_scenarios = '/Users/Guille/Desktop/india_power/scenarios'\n",
    "path_to_images    = '/Users/Guille/Desktop/india_power/images'\n",
    "path_to_csvs      = '/Users/Guille/Desktop/india_power/gridpath_india_viz/csvs'"
   ]
  }
 ],
 "metadata": {
  "kernelspec": {
   "display_name": "Python 3 (ipykernel)",
   "language": "python",
   "name": "python3"
  },
  "language_info": {
   "codemirror_mode": {
    "name": "ipython",
    "version": 3
   },
   "file_extension": ".py",
   "mimetype": "text/x-python",
   "name": "python",
   "nbconvert_exporter": "python",
   "pygments_lexer": "ipython3",
   "version": "3.8.5"
  }
 },
 "nbformat": 4,
 "nbformat_minor": 5
}
